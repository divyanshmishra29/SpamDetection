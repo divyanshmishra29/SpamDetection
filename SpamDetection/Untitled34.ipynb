{
  "nbformat": 4,
  "nbformat_minor": 0,
  "metadata": {
    "colab": {
      "name": "Untitled34.ipynb",
      "provenance": []
    },
    "kernelspec": {
      "name": "python3",
      "display_name": "Python 3"
    }
  },
  "cells": [
    {
      "cell_type": "code",
      "metadata": {
        "id": "8SF4gd2GL7qO",
        "colab_type": "code",
        "colab": {}
      },
      "source": [
        "from nltk.tokenize import RegexpTokenizer, word_tokenize\n",
        "import nltk\n",
        "from nltk.stem import PorterStemmer\n",
        "from nltk.corpus import stopwords\n",
        "import numpy as np\n",
        "import pandas as pd\n",
        "from sklearn.preprocessing import LabelEncoder\n",
        "from sklearn.feature_extraction.text import CountVectorizer\n",
        "from sklearn.model_selection import train_test_split"
      ],
      "execution_count": 27,
      "outputs": []
    },
    {
      "cell_type": "code",
      "metadata": {
        "id": "VAP2ch22MMRw",
        "colab_type": "code",
        "colab": {}
      },
      "source": [
        "df = pd.read_csv('spam.txt', encoding = 'ISO-8859-1')\n",
        "df.to_csv('spam.csv',index=None)\n",
        "data=pd.read_csv('spam.csv')"
      ],
      "execution_count": 16,
      "outputs": []
    },
    {
      "cell_type": "code",
      "metadata": {
        "id": "G47gKXXXMo97",
        "colab_type": "code",
        "colab": {}
      },
      "source": [
        "data_final = data.to_numpy()"
      ],
      "execution_count": 18,
      "outputs": []
    },
    {
      "cell_type": "code",
      "metadata": {
        "id": "2yHf6WJkOTpU",
        "colab_type": "code",
        "colab": {
          "base_uri": "https://localhost:8080/",
          "height": 297
        },
        "outputId": "fea595eb-3137-4bd6-b77f-b219136fcf00"
      },
      "source": [
        "data_final"
      ],
      "execution_count": 20,
      "outputs": [
        {
          "output_type": "execute_result",
          "data": {
            "text/plain": [
              "array([['ham',\n",
              "        'Go until jurong point, crazy.. Available only in bugis n great world la e buffet... Cine there got amore wat...',\n",
              "        nan, nan, nan],\n",
              "       ['ham', 'Ok lar... Joking wif u oni...', nan, nan, nan],\n",
              "       ['spam',\n",
              "        \"Free entry in 2 a wkly comp to win FA Cup final tkts 21st May 2005. Text FA to 87121 to receive entry question(std txt rate)T&C's apply 08452810075over18's\",\n",
              "        nan, nan, nan],\n",
              "       ...,\n",
              "       ['ham',\n",
              "        'Pity, * was in mood for that. So...any other suggestions?', nan,\n",
              "        nan, nan],\n",
              "       ['ham',\n",
              "        \"The guy did some bitching but I acted like i'd be interested in buying something else next week and he gave it to us for free\",\n",
              "        nan, nan, nan],\n",
              "       ['ham', 'Rofl. Its true to its name', nan, nan, nan]], dtype=object)"
            ]
          },
          "metadata": {
            "tags": []
          },
          "execution_count": 20
        }
      ]
    },
    {
      "cell_type": "code",
      "metadata": {
        "id": "j0XaBnP2Oxxg",
        "colab_type": "code",
        "colab": {
          "base_uri": "https://localhost:8080/",
          "height": 35
        },
        "outputId": "0c4ddb5a-02a6-4151-9b21-455785753988"
      },
      "source": [
        "len(data_final)"
      ],
      "execution_count": 21,
      "outputs": [
        {
          "output_type": "execute_result",
          "data": {
            "text/plain": [
              "5572"
            ]
          },
          "metadata": {
            "tags": []
          },
          "execution_count": 21
        }
      ]
    },
    {
      "cell_type": "code",
      "metadata": {
        "id": "edEtNmUePAED",
        "colab_type": "code",
        "colab": {}
      },
      "source": [
        "X = data_final[:, 1]\n",
        "y = data_final[:, 0]"
      ],
      "execution_count": 23,
      "outputs": []
    },
    {
      "cell_type": "code",
      "metadata": {
        "id": "ppgHMQurPKS5",
        "colab_type": "code",
        "colab": {
          "base_uri": "https://localhost:8080/",
          "height": 35
        },
        "outputId": "0a4d3e8d-78a2-46d2-82a9-c3ab097e10a5"
      },
      "source": [
        "\n",
        "X.shape, y.shape"
      ],
      "execution_count": 24,
      "outputs": [
        {
          "output_type": "execute_result",
          "data": {
            "text/plain": [
              "((5572,), (5572,))"
            ]
          },
          "metadata": {
            "tags": []
          },
          "execution_count": 24
        }
      ]
    },
    {
      "cell_type": "code",
      "metadata": {
        "id": "2oPaYAqXQI1T",
        "colab_type": "code",
        "colab": {
          "base_uri": "https://localhost:8080/",
          "height": 69
        },
        "outputId": "149b3092-b0cf-4deb-be85-ceb770ba3b50"
      },
      "source": [
        "nltk.download('stopwords')"
      ],
      "execution_count": 28,
      "outputs": [
        {
          "output_type": "stream",
          "text": [
            "[nltk_data] Downloading package stopwords to /root/nltk_data...\n",
            "[nltk_data]   Unzipping corpora/stopwords.zip.\n"
          ],
          "name": "stdout"
        },
        {
          "output_type": "execute_result",
          "data": {
            "text/plain": [
              "True"
            ]
          },
          "metadata": {
            "tags": []
          },
          "execution_count": 28
        }
      ]
    },
    {
      "cell_type": "code",
      "metadata": {
        "id": "Oxeyyz2kPSLh",
        "colab_type": "code",
        "colab": {}
      },
      "source": [
        "\n",
        "tokenizer = RegexpTokenizer('\\w+')\n",
        "sw = set(stopwords.words('english'))\n",
        "ps = PorterStemmer()"
      ],
      "execution_count": 29,
      "outputs": []
    },
    {
      "cell_type": "code",
      "metadata": {
        "id": "oAocYsYIQFG0",
        "colab_type": "code",
        "colab": {}
      },
      "source": [
        "def getStem(review):\n",
        "    review = review.lower()\n",
        "    tokens = tokenizer.tokenize(review) # breaking into small words\n",
        "    removed_stopwords = [w for w in tokens if w not in sw]\n",
        "    stemmed_words = [ps.stem(token) for token in removed_stopwords]\n",
        "    clean_review = ' '.join(stemmed_words)\n",
        "    return clean_review"
      ],
      "execution_count": 30,
      "outputs": []
    },
    {
      "cell_type": "code",
      "metadata": {
        "id": "GsifLKQuQVst",
        "colab_type": "code",
        "colab": {}
      },
      "source": [
        "def getDoc(document):\n",
        "    d = []\n",
        "    for doc in document:\n",
        "        d.append(getStem(doc))\n",
        "    return d"
      ],
      "execution_count": 31,
      "outputs": []
    },
    {
      "cell_type": "code",
      "metadata": {
        "id": "m_jkAJVEQjb1",
        "colab_type": "code",
        "colab": {}
      },
      "source": [
        "stemmed_doc = getDoc(X)"
      ],
      "execution_count": 32,
      "outputs": []
    },
    {
      "cell_type": "code",
      "metadata": {
        "id": "wUNQrhmhQm7P",
        "colab_type": "code",
        "colab": {
          "base_uri": "https://localhost:8080/",
          "height": 211
        },
        "outputId": "d9dd1e6c-489f-46a8-a495-5336eb343b8a"
      },
      "source": [
        "\n",
        "stemmed_doc[:10]"
      ],
      "execution_count": 33,
      "outputs": [
        {
          "output_type": "execute_result",
          "data": {
            "text/plain": [
              "['go jurong point crazi avail bugi n great world la e buffet cine got amor wat',\n",
              " 'ok lar joke wif u oni',\n",
              " 'free entri 2 wkli comp win fa cup final tkt 21st may 2005 text fa 87121 receiv entri question std txt rate c appli 08452810075over18',\n",
              " 'u dun say earli hor u c alreadi say',\n",
              " 'nah think goe usf live around though',\n",
              " 'freemsg hey darl 3 week word back like fun still tb ok xxx std chg send å 1 50 rcv',\n",
              " 'even brother like speak treat like aid patent',\n",
              " 'per request mell mell oru minnaminungint nurungu vettam set callertun caller press 9 copi friend callertun',\n",
              " 'winner valu network custom select receivea å 900 prize reward claim call 09061701461 claim code kl341 valid 12 hour',\n",
              " 'mobil 11 month u r entitl updat latest colour mobil camera free call mobil updat co free 08002986030']"
            ]
          },
          "metadata": {
            "tags": []
          },
          "execution_count": 33
        }
      ]
    },
    {
      "cell_type": "code",
      "metadata": {
        "id": "N9PYTbjiQtbH",
        "colab_type": "code",
        "colab": {}
      },
      "source": [
        "cv = CountVectorizer()"
      ],
      "execution_count": 34,
      "outputs": []
    },
    {
      "cell_type": "code",
      "metadata": {
        "id": "7g-8-7-0RmYv",
        "colab_type": "code",
        "colab": {}
      },
      "source": [
        "vc = cv.fit_transform(stemmed_doc)"
      ],
      "execution_count": 35,
      "outputs": []
    },
    {
      "cell_type": "code",
      "metadata": {
        "id": "HDLabhJGRpCf",
        "colab_type": "code",
        "colab": {}
      },
      "source": [
        "X = vc.todense()"
      ],
      "execution_count": 38,
      "outputs": []
    },
    {
      "cell_type": "code",
      "metadata": {
        "id": "RRCXEdKlRq-b",
        "colab_type": "code",
        "colab": {}
      },
      "source": [
        "X_train, X_test, y_train, y_test = train_test_split(\n",
        "...     X, y, test_size=0.33, random_state=42)"
      ],
      "execution_count": 39,
      "outputs": []
    },
    {
      "cell_type": "code",
      "metadata": {
        "id": "hxPdhYbeRt9C",
        "colab_type": "code",
        "colab": {}
      },
      "source": [
        "from sklearn.naive_bayes import MultinomialNB"
      ],
      "execution_count": 40,
      "outputs": []
    },
    {
      "cell_type": "code",
      "metadata": {
        "id": "ogZcKhrkR1BK",
        "colab_type": "code",
        "colab": {
          "base_uri": "https://localhost:8080/",
          "height": 35
        },
        "outputId": "49cd340f-d724-462a-cdef-e362d7e66e8a"
      },
      "source": [
        "model = MultinomialNB()\n",
        "model.fit(X_train, y_train)\n",
        "model.score(X_test, y_test)"
      ],
      "execution_count": 41,
      "outputs": [
        {
          "output_type": "execute_result",
          "data": {
            "text/plain": [
              "0.977705274605764"
            ]
          },
          "metadata": {
            "tags": []
          },
          "execution_count": 41
        }
      ]
    },
    {
      "cell_type": "code",
      "metadata": {
        "id": "o6ZvjGwHR4sY",
        "colab_type": "code",
        "colab": {}
      },
      "source": [
        "mess = [\"Hi Divyansh Mishra,This is a reminder that 'Magnimind Academy - Machine Learning Mini Bootcamp'will begin in 1 day on:Date Time: Aug 2, 2020 10:00 AM Pacific Time (US and Canada)Join from a PC, Mac, iPad, iPhone or Android device:Click Here to JoinNote: This link should not be shared with others; it is unique to you.Passcode: 811776Add to Calendar   Add to Google Calendar   Add to Yahoo CalendarOr join by phone:US: +1 301 715 8592 or +1 312 626 6799 or +1 346 248 7799 or +1 669 900 6833 or +1 929 205 6099 or +1 253 215 8782Webinar ID: 820 3337 5709Passcode: 811776International numbers available: https://us02web.zoom.us/u/kdF5kvCw90\",\"Hello Everyone because of some unavoidable work. We are cancelling today's class. Sorry for the delayed response. But it wasn't planned to that way. That's why a last minute updated. We are really sorry for that.Hope you can understand.Thanks\",\" Dear Agency Enthusiast! The doors to the most-awaited opportunity are now open for you!Clientjoy Agency Summit gladly brings an ecstatic opportunity for agency enthusiasts and keen learners such as you. With the most agency centric Summit, this is your chance to learn from over 12 agency experts and industry professionals.With these Educators from across the globe, we guarantee for you, an assured delivery of a compilation of insightful sessions and learnings from their own experiences and exceptional journeys. The Summit will be conducted through a series of live webinars.If you have always been keen about developing your own agency or if you are an entrepreneur or a freelancer, stuck on your growth path, the time to kickstart your journey and excel is now!\"]"
      ],
      "execution_count": 43,
      "outputs": []
    },
    {
      "cell_type": "code",
      "metadata": {
        "id": "St0iR2HbTzQ2",
        "colab_type": "code",
        "colab": {
          "base_uri": "https://localhost:8080/",
          "height": 35
        },
        "outputId": "113245ed-31d2-483b-b133-1986d5d2517b"
      },
      "source": [
        "print(len(mess))"
      ],
      "execution_count": 47,
      "outputs": [
        {
          "output_type": "stream",
          "text": [
            "3\n"
          ],
          "name": "stdout"
        }
      ]
    },
    {
      "cell_type": "code",
      "metadata": {
        "id": "L_z807roS2sb",
        "colab_type": "code",
        "colab": {}
      },
      "source": [
        "def prepare(messages):\n",
        "    d = getDoc(mess)\n",
        "    # dont do fit_transform!! it will create new vocab.\n",
        "    return cv.transform(d)\n",
        "\n",
        "messages = prepare(mess)"
      ],
      "execution_count": 44,
      "outputs": []
    },
    {
      "cell_type": "code",
      "metadata": {
        "id": "EyDwQU8LTp4r",
        "colab_type": "code",
        "colab": {
          "base_uri": "https://localhost:8080/",
          "height": 35
        },
        "outputId": "765a7dba-b349-4443-a5db-03f4108f9522"
      },
      "source": [
        "y_pred = model.predict(messages)\n",
        "y_pred"
      ],
      "execution_count": 45,
      "outputs": [
        {
          "output_type": "execute_result",
          "data": {
            "text/plain": [
              "array(['spam', 'ham', 'ham'], dtype='<U4')"
            ]
          },
          "metadata": {
            "tags": []
          },
          "execution_count": 45
        }
      ]
    },
    {
      "cell_type": "code",
      "metadata": {
        "id": "LoelHuoYTuZG",
        "colab_type": "code",
        "colab": {}
      },
      "source": [
        ""
      ],
      "execution_count": null,
      "outputs": []
    }
  ]
}